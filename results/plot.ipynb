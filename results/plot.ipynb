{
 "cells": [
  {
   "cell_type": "code",
   "execution_count": 31,
   "metadata": {},
   "outputs": [],
   "source": [
    "import re\n",
    "import os\n",
    "\n",
    "MULTIPLIERS = [0.5, 1, 4, 8]\n",
    "\n",
    "def get_file_directory(cache_level):\n",
    "    dirs = []\n",
    "    for i in MULTIPLIERS:\n",
    "        dirs.append(os.getcwd()+f\"/{cache_level}_{i}/\")\n",
    "    return dirs\n",
    "\n",
    "files = [\"bfs-3.trace.gz-bimodal-no-no-no-next_line-lru-1core.txt\",\n",
    "\"cc-5.trace.gz-bimodal-no-no-no-next_line-lru-1core.txt\",\n",
    "\"sssp-5.trace.gz-bimodal-no-no-no-next_line-lru-1core.txt\"\n",
    "]"
   ]
  },
  {
   "cell_type": "code",
   "execution_count": 35,
   "metadata": {},
   "outputs": [
    {
     "data": {
      "image/png": "[encoded data removed]",
      "text/plain": [
       "<Figure size 640x480 with 1 Axes>"
      ]
     },
     "metadata": {},
     "output_type": "display_data"
    }
   ],
   "source": [
    "import numpy as np\n",
    "import matplotlib.pyplot as plt\n",
    "pattern ={\n",
    "    'cycles': r'CPU 0 cumulative IPC: [0-9.]* instructions: [0-9]* cycles: ([0-9]*)',\n",
    "    # patterns for:\n",
    "    # - IPC\n",
    "    # - L1D, L2C, LLC miss rates (total)\n",
    "    # - L1D, L2C, LLC miss rates (load)\n",
    "    # - L1D, L2C, LLC miss rates (prefetch)\n",
    "    # - L1D, L2C, LLC miss latency\n",
    "    'l1' : r'L1D TOTAL .* ([0-9]*)',\n",
    "    'l2' : r'L2C TOTAL .* ([0-9]*)',\n",
    "    # 'llc' : r'LLC TOTAL     ACCESS:   [0-9]*  HIT:    [0-9]*  MISS:    ([0-9]*)',\n",
    "    # 'llc' : r'LLC TOTAL     ACCESS:    [0-9]*  HIT:     [0-9]*  MISS:    ([0-9]*)',\n",
    "    'llc' : r'LLC TOTAL .* ([0-9]*)$',\n",
    "}\n",
    "\n",
    "x  = np.arange(4)\n",
    "data = [str(i) for i in MULTIPLIERS]\n",
    "bfs_data = np.array([])\n",
    "cc_data = np.array([])\n",
    "sssp_data = np.array([])\n",
    "\n",
    "def get_data(file,key):\n",
    "    # res=dict()\n",
    "    with open(file, \"r\") as f:\n",
    "        for line in f:\n",
    "            # for key in pattern:\n",
    "            match = re.search(pattern[key], line)\n",
    "            if match:\n",
    "                # res[key] = match.group(1)\n",
    "                res = match.group(1)\n",
    "                return int(res)\n",
    "    # if not len(res):\n",
    "    #     return None\n",
    "    \n",
    "    return None \n",
    "\n",
    "# print(get_data(get_file_directory(\"l1\")[0]+files[0]))\n",
    "def parse_data(level,key):\n",
    "    global bfs_data\n",
    "    global cc_data\n",
    "    global sssp_data\n",
    "    # for level in ['l1']:\n",
    "\n",
    "    for i in range(len(files)):\n",
    "        for dir in get_file_directory(level):\n",
    "            # if(file == \"bfs-3.trace.gz-bimodal-no-no-no-next_line-lru-1core.txt\"):\n",
    "            #     bfs_data = np.append(bfs_data, get_data(dir+file))\n",
    "            # elif(file == \"cc-5.trace.gz-bimodal-no-no-no-next_line-lru-1core.txt\"):\n",
    "            #     cc_data = np.append(cc_data, get_data(dir+file))\n",
    "            # elif(file == \"sssp_data-5.trace.gz-bimodal-no-no-no-next_line-lru-1core.txt\"):\n",
    "            #     sssp_data = np.append(sssp_data, get_data(dir+file))\n",
    "            if(i == 0):\n",
    "                bfs_data = np.append(bfs_data, get_data(dir+files[0],key))\n",
    "            elif(i == 1): \n",
    "                cc_data = np.append(cc_data, get_data(dir+files[1],key))\n",
    "            elif(i == 2):\n",
    "                sssp_data = np.append(sssp_data, get_data(dir+files[2],key))\n",
    "             \n",
    "\n",
    "# parse_data(\"l1\",\"l1\")\n",
    "parse_data(\"l2\",\"l2\")\n",
    "# parse_data(\"llc\",\"llc\")\n",
    "def plot_cycle(bfs_cycle_data, cc_cycle_data, sssp_cycle_data):\n",
    "    bar_width = 0.2\n",
    "    bfs_cycle_data = bfs_cycle_data/np.max(bfs_cycle_data)\n",
    "    cc_cycle_data = cc_cycle_data/np.max(cc_cycle_data)\n",
    "    sssp_cycle_data = sssp_cycle_data/np.max(sssp_cycle_data)\n",
    "    plt.bar(x-bar_width, bfs_cycle_data, width=bar_width, color='b', label='bfs')            \n",
    "    plt.bar(x, cc_cycle_data, width=bar_width, color='g', label='cc')\n",
    "    plt.bar(x+bar_width, sssp_cycle_data, width=bar_width, color='r',  label='sssp')\n",
    "\n",
    "    plt.xlabel(\"Size\")\n",
    "    plt.ylabel(\"Cycles\")\n",
    "    plt.title(\"Cycles vs Size\")\n",
    "    plt.xticks(x, data)\n",
    "    plt.legend()\n",
    "    # plt.yscale(\"log\")\n",
    "    plt.show()\n",
    "\n",
    "plot_cycle(bfs_data, cc_data, sssp_data)"
   ]
  }
 ],
 "metadata": {
  "kernelspec": {
   "display_name": "Python 3",
   "language": "python",
   "name": "python3"
  },
  "language_info": {
   "codemirror_mode": {
    "name": "ipython",
    "version": 3
   },
   "file_extension": ".py",
   "mimetype": "text/x-python",
   "name": "python",
   "nbconvert_exporter": "python",
   "pygments_lexer": "ipython3",
   "version": "3.10.6"
  },
  "orig_nbformat": 4,
  "vscode": {
   "interpreter": {
    "hash": "916dbcbb3f70747c44a77c7bcd40155683ae19c65e1c03b4aa3499c5328201f1"
   }
  }
 },
 "nbformat": 4,
 "nbformat_minor": 2
}
