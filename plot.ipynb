{
 "cells": [
  {
   "cell_type": "code",
   "execution_count": 1,
   "metadata": {},
   "outputs": [],
   "source": [
    "import re\n",
    "import os\n",
    "def get_file_directory(cache_level):\n",
    "    dirs = []\n",
    "    for i in [0.5,1,4,8]:\n",
    "        dirs.append(os.getcwd()+f\"/{cache_level}_{i}/\")\n",
    "    return dirs\n",
    "\n",
    "files = [\"bfs-3.trace.gz-bimodal-no-no-no-next_line-lru-1core.txt\",\n",
    "\"cc-5.trace.gz-bimodal-no-no-no-next_line-lru-1core.txt\",\n",
    "\"sssp-5.trace.gz-bimodal-no-no-no-next_line-lru-1core.txt\"\n",
    "]"
   ]
  },
  {
   "cell_type": "code",
   "execution_count": 9,
   "metadata": {},
   "outputs": [
    {
     "data": {
      "image/png": "[encoded data removed]",
      "text/plain": [
       "<Figure size 640x480 with 1 Axes>"
      ]
     },
     "metadata": {},
     "output_type": "display_data"
    }
   ],
   "source": [
    "import numpy as np\n",
    "import matplotlib.pyplot as plt\n",
    "pattern ={\n",
    "    'cycles': r'CPU 0 cumulative IPC: [0-9.]* instructions: [0-9]* cycles: ([0-9]*)',\n",
    "}\n",
    "\n",
    "x  = np.arange(4)\n",
    "data = [\"0.5\",\"1\",\"4\",\"8\"]\n",
    "bfs_data = np.array([])\n",
    "cc_data = np.array([])\n",
    "sssp_data = np.array([])\n",
    "\n",
    "def get_data(file):\n",
    "    with open(file, \"r\") as f:\n",
    "        for line in f:\n",
    "            for key in pattern:\n",
    "                match = re.search(pattern[key], line)\n",
    "                if match:\n",
    "                    return int(match.group(1))\n",
    "    return None\n",
    "# print(get_data(get_file_directory(\"l1\")[0]+files[0]))\n",
    "def parse_data(level):\n",
    "    global bfs_data\n",
    "    global cc_data\n",
    "    global sssp_data\n",
    "    # for level in ['l1']:\n",
    "\n",
    "    for i in range(len(files)):\n",
    "        for dir in get_file_directory(level):\n",
    "            # if(file == \"bfs-3.trace.gz-bimodal-no-no-no-next_line-lru-1core.txt\"):\n",
    "            #     bfs_data = np.append(bfs_data, get_data(dir+file))\n",
    "            # elif(file == \"cc-5.trace.gz-bimodal-no-no-no-next_line-lru-1core.txt\"):\n",
    "            #     cc_data = np.append(cc_data, get_data(dir+file))\n",
    "            # elif(file == \"sssp_data-5.trace.gz-bimodal-no-no-no-next_line-lru-1core.txt\"):\n",
    "            #     sssp_data = np.append(sssp_data, get_data(dir+file))\n",
    "            if(i == 0):\n",
    "                bfs_data = np.append(bfs_data, get_data(dir+files[0]))\n",
    "            elif(i == 1): \n",
    "                cc_data = np.append(cc_data, get_data(dir+files[1]))\n",
    "            elif(i == 2):\n",
    "                sssp_data = np.append(sssp_data, get_data(dir+files[2]))\n",
    "             \n",
    "\n",
    "# print(bfs_data)\n",
    "parse_data(\"llc\")\n",
    "bar_width = 0.2\n",
    "bfs_data = bfs_data/np.max(bfs_data)\n",
    "cc_data = cc_data/np.max(cc_data)\n",
    "sssp_data = sssp_data/np.max(sssp_data)\n",
    "plt.bar(x-bar_width, bfs_data, width=bar_width, color='b', label='bfs')            \n",
    "plt.bar(x, cc_data, width=bar_width, color='g', label='cc')\n",
    "plt.bar(x+bar_width, sssp_data, width=bar_width, color='r',  label='sssp')\n",
    "\n",
    "plt.xlabel(\"Size\")\n",
    "plt.ylabel(\"Cycles\")\n",
    "plt.title(\"Cycles vs Size\")\n",
    "plt.xticks(x, data)\n",
    "plt.legend()\n",
    "# plt.yscale(\"log\")\n",
    "plt.show()"
   ]
  }
 ],
 "metadata": {
  "kernelspec": {
   "display_name": "Python 3",
   "language": "python",
   "name": "python3"
  },
  "language_info": {
   "codemirror_mode": {
    "name": "ipython",
    "version": 3
   },
   "file_extension": ".py",
   "mimetype": "text/x-python",
   "name": "python",
   "nbconvert_exporter": "python",
   "pygments_lexer": "ipython3",
   "version": "3.10.6"
  },
  "orig_nbformat": 4
 },
 "nbformat": 4,
 "nbformat_minor": 2
}
